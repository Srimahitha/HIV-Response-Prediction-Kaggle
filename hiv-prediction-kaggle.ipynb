{
 "cells": [
  {
   "cell_type": "code",
   "execution_count": 1,
   "metadata": {
    "collapsed": false
   },
   "outputs": [
    {
     "name": "stderr",
     "output_type": "stream",
     "text": [
      "/ext/anaconda3/lib/python3.5/site-packages/sklearn/cross_validation.py:41: DeprecationWarning: This module was deprecated in version 0.18 in favor of the model_selection module into which all the refactored classes and functions are moved. Also note that the interface of the new CV iterators are different from that of this module. This module will be removed in 0.20.\n",
      "  \"This module will be removed in 0.20.\", DeprecationWarning)\n"
     ]
    }
   ],
   "source": [
    "#common imports\n",
    "import pandas as pd\n",
    "\n",
    "#for pretty figures\n",
    "%matplotlib inline\n",
    "import matplotlib.pyplot as plt\n",
    "\n",
    "#scikit imports\n",
    "from sklearn.model_selection import train_test_split\n",
    "from sklearn.linear_model import LogisticRegression\n",
    "from sklearn import metrics\n",
    "from sklearn.cross_validation import cross_val_score"
   ]
  },
  {
   "cell_type": "code",
   "execution_count": 2,
   "metadata": {
    "collapsed": false
   },
   "outputs": [
   ],
   "source": [
    "#Load train and test datasets\n",
    "trainData = pd.read_csv('kaggle_hiv_training_data.csv')\n",
    "testData = pd.read_csv('kaggle_hiv_test_data.csv')"
   ]
  },
  {
   "cell_type": "code",
   "execution_count": 4,
   "metadata": {
    "collapsed": false
   },
   "outputs": [
    {
     "data": {
      "text/html": [
       "<div>\n",
       "<style scoped>\n",
       "    .dataframe tbody tr th:only-of-type {\n",
       "        vertical-align: middle;\n",
       "    }\n",
       "\n",
       "    .dataframe tbody tr th {\n",
       "        vertical-align: top;\n",
       "    }\n",
       "\n",
       "    .dataframe thead th {\n",
       "        text-align: right;\n",
       "    }\n",
       "</style>\n",
       "<table border=\"1\" class=\"dataframe\">\n",
       "  <thead>\n",
       "    <tr style=\"text-align: right;\">\n",
       "      <th></th>\n",
       "      <th>PatientID</th>\n",
       "      <th>Resp</th>\n",
       "      <th>PR Seq</th>\n",
       "      <th>RT Seq</th>\n",
       "      <th>VL-t0</th>\n",
       "      <th>CD4-t0</th>\n",
       "    </tr>\n",
       "  </thead>\n",
       "  <tbody>\n",
       "    <tr>\n",
       "      <th>0</th>\n",
       "      <td>1</td>\n",
       "      <td>0</td>\n",
       "      <td>CCTCAAATCACTCTTTGGCAACGACCCCTCGTCCCAATAAGGATAG...</td>\n",
       "      <td>CCCATTAGTCCTATTGAAACTGTACCAGTAAAGCTAAAGCCAGGAA...</td>\n",
       "      <td>4.3</td>\n",
       "      <td>145</td>\n",
       "    </tr>\n",
       "    <tr>\n",
       "      <th>1</th>\n",
       "      <td>2</td>\n",
       "      <td>0</td>\n",
       "      <td>CCTCAAATCACTCTTTGGCAACGACCCCTCGTCGCAATAAAGATAG...</td>\n",
       "      <td>CCCATTAGTCCTATTGAAACTGTACCAGTAAAATTAAAGCCAGGAA...</td>\n",
       "      <td>3.6</td>\n",
       "      <td>224</td>\n",
       "    </tr>\n",
       "    <tr>\n",
       "      <th>2</th>\n",
       "      <td>3</td>\n",
       "      <td>0</td>\n",
       "      <td>CCTCAAATCACTCTTTGGCAACGACCCCTCGTCGCAATAAAGGTAG...</td>\n",
       "      <td>CCCATTAGTCCTATTGAAACTGTACCAGTAAAATTAAAGCCAGGAA...</td>\n",
       "      <td>3.2</td>\n",
       "      <td>1017</td>\n",
       "    </tr>\n",
       "    <tr>\n",
       "      <th>3</th>\n",
       "      <td>4</td>\n",
       "      <td>0</td>\n",
       "      <td>CCTCAAATCACTCTTTGGCAACGACCCCTCGTCGCAATAAGGATAG...</td>\n",
       "      <td>CCCATTAGTCCTATTGAAACTGTACCAGTAAAATTAAAGCCAGGAA...</td>\n",
       "      <td>5.7</td>\n",
       "      <td>206</td>\n",
       "    </tr>\n",
       "    <tr>\n",
       "      <th>4</th>\n",
       "      <td>5</td>\n",
       "      <td>0</td>\n",
       "      <td>CCTCAAATCACTCTTTGGCAACGACCCCTCGTCGCAGTAAAGATAG...</td>\n",
       "      <td>CCCATTAGTCCTATTGAAACTGTACCAGTAAAATTAAAGCCAGGAA...</td>\n",
       "      <td>3.5</td>\n",
       "      <td>572</td>\n",
       "    </tr>\n",
       "  </tbody>\n",
       "</table>\n",
       "</div>"
      ]
     },
     "execution_count": 4,
     "metadata": {
     },
     "output_type": "execute_result"
    }
   ],
   "source": [
    "#Data exploration\n",
    "trainData.head()"
   ]
  },
  {
   "cell_type": "code",
   "execution_count": 5,
   "metadata": {
    "collapsed": false
   },
   "outputs": [
    {
     "name": "stdout",
     "output_type": "stream",
     "text": [
      "<class 'pandas.core.frame.DataFrame'>\n",
      "RangeIndex: 1000 entries, 0 to 999\n",
      "Data columns (total 6 columns):\n",
      "PatientID    1000 non-null int64\n",
      "Resp         1000 non-null int64\n",
      "PR Seq       920 non-null object\n",
      "RT Seq       1000 non-null object\n",
      "VL-t0        1000 non-null float64\n",
      "CD4-t0       1000 non-null int64\n",
      "dtypes: float64(1), int64(3), object(2)\n",
      "memory usage: 47.0+ KB\n"
     ]
    }
   ],
   "source": [
    "trainData.info()"
   ]
  },
  {
   "cell_type": "code",
   "execution_count": 6,
   "metadata": {
    "collapsed": false
   },
   "outputs": [
    {
     "data": {
      "text/html": [
       "<div>\n",
       "<style scoped>\n",
       "    .dataframe tbody tr th:only-of-type {\n",
       "        vertical-align: middle;\n",
       "    }\n",
       "\n",
       "    .dataframe tbody tr th {\n",
       "        vertical-align: top;\n",
       "    }\n",
       "\n",
       "    .dataframe thead th {\n",
       "        text-align: right;\n",
       "    }\n",
       "</style>\n",
       "<table border=\"1\" class=\"dataframe\">\n",
       "  <thead>\n",
       "    <tr style=\"text-align: right;\">\n",
       "      <th></th>\n",
       "      <th>PatientID</th>\n",
       "      <th>Resp</th>\n",
       "      <th>VL-t0</th>\n",
       "      <th>CD4-t0</th>\n",
       "    </tr>\n",
       "  </thead>\n",
       "  <tbody>\n",
       "    <tr>\n",
       "      <th>count</th>\n",
       "      <td>1000.000000</td>\n",
       "      <td>1000.000000</td>\n",
       "      <td>1000.00000</td>\n",
       "      <td>1000.000000</td>\n",
       "    </tr>\n",
       "    <tr>\n",
       "      <th>mean</th>\n",
       "      <td>500.500000</td>\n",
       "      <td>0.206000</td>\n",
       "      <td>4.29721</td>\n",
       "      <td>279.638000</td>\n",
       "    </tr>\n",
       "    <tr>\n",
       "      <th>std</th>\n",
       "      <td>288.819436</td>\n",
       "      <td>0.404633</td>\n",
       "      <td>0.70478</td>\n",
       "      <td>198.186712</td>\n",
       "    </tr>\n",
       "    <tr>\n",
       "      <th>min</th>\n",
       "      <td>1.000000</td>\n",
       "      <td>0.000000</td>\n",
       "      <td>2.70000</td>\n",
       "      <td>0.000000</td>\n",
       "    </tr>\n",
       "    <tr>\n",
       "      <th>25%</th>\n",
       "      <td>250.750000</td>\n",
       "      <td>0.000000</td>\n",
       "      <td>3.70000</td>\n",
       "      <td>132.750000</td>\n",
       "    </tr>\n",
       "    <tr>\n",
       "      <th>50%</th>\n",
       "      <td>500.500000</td>\n",
       "      <td>0.000000</td>\n",
       "      <td>4.30000</td>\n",
       "      <td>249.000000</td>\n",
       "    </tr>\n",
       "    <tr>\n",
       "      <th>75%</th>\n",
       "      <td>750.250000</td>\n",
       "      <td>0.000000</td>\n",
       "      <td>4.80000</td>\n",
       "      <td>383.250000</td>\n",
       "    </tr>\n",
       "    <tr>\n",
       "      <th>max</th>\n",
       "      <td>1000.000000</td>\n",
       "      <td>1.000000</td>\n",
       "      <td>6.00000</td>\n",
       "      <td>1589.000000</td>\n",
       "    </tr>\n",
       "  </tbody>\n",
       "</table>\n",
       "</div>"
      ]
     },
     "execution_count": 6,
     "metadata": {
     },
     "output_type": "execute_result"
    }
   ],
   "source": [
    "trainData.describe()"
   ]
  },
  {
   "cell_type": "code",
   "execution_count": 8,
   "metadata": {
    "collapsed": false
   },
   "outputs": [
    {
     "data": {
      "text/plain": [
       "0    794\n",
       "1    206\n",
       "Name: Resp, dtype: int64"
      ]
     },
     "execution_count": 8,
     "metadata": {
     },
     "output_type": "execute_result"
    }
   ],
   "source": [
    "#HIV response positive, negative counts\n",
    "trainData.Resp.value_counts()"
   ]
  },
  {
   "cell_type": "code",
   "execution_count": 9,
   "metadata": {
    "collapsed": false
   },
   "outputs": [
    {
     "data": {
      "text/plain": [
       "array([[<matplotlib.axes._subplots.AxesSubplot object at 0x7f0585fc1400>,\n",
       "        <matplotlib.axes._subplots.AxesSubplot object at 0x7f0585f81518>],\n",
       "       [<matplotlib.axes._subplots.AxesSubplot object at 0x7f0585f27518>,\n",
       "        <matplotlib.axes._subplots.AxesSubplot object at 0x7f0585f4a518>]], dtype=object)"
      ]
     },
     "execution_count": 9,
     "metadata": {
     },
     "output_type": "execute_result"
    },
    {
     "data": {
      "image/png": "[encoded data removed]"
     },
     "metadata": {
      "image/png": {
       "height": 861,
       "width": 1158
      }
     }
    }
   ],
   "source": [
    "#plot histograms for trends exploration\n",
    "%matplotlib inline\n",
    "import matplotlib.pyplot as plt\n",
    "trainData.hist(bins=50, figsize=(20,15))"
   ]
  },
  {
   "cell_type": "code",
   "execution_count": 10,
   "metadata": {
    "collapsed": false
   },
   "outputs": [
   ],
   "source": [
    "#Look for response correlations\n",
    "corr_matrix = trainData.corr()"
   ]
  },
  {
   "cell_type": "code",
   "execution_count": 11,
   "metadata": {
    "collapsed": false
   },
   "outputs": [
    {
     "data": {
      "text/plain": [
       "CD4-t0      -0.118626\n",
       "PatientID    0.276525\n",
       "VL-t0        0.362400\n",
       "Resp         1.000000\n",
       "Name: Resp, dtype: float64"
      ]
     },
     "execution_count": 11,
     "metadata": {
     },
     "output_type": "execute_result"
    }
   ],
   "source": [
    "corr_matrix['Resp'].sort_values()"
   ]
  },
  {
   "cell_type": "code",
   "execution_count": 16,
   "metadata": {
    "collapsed": false
   },
   "outputs": [
   ],
   "source": [
    "# Evaluate impact of 'VL-t0' on Resp\n",
    "# split data into train and validation tests\n",
    "featureSet = ['VL-t0']\n",
    "X = trainData[featureSet]\n",
    "y = trainData.Resp\n",
    "X_train, X_test, y_train, y_test = train_test_split(X, y, test_size=0.2, random_state=42)"
   ]
  },
  {
   "cell_type": "code",
   "execution_count": 17,
   "metadata": {
    "collapsed": false
   },
   "outputs": [
   ],
   "source": [
    "# instantiate a logistic regression model, and fit with X and y\n",
    "vlt0Model = LogisticRegression()\n",
    "vlt0Model = vlt0Model.fit(X_train, y_train)"
   ]
  },
  {
   "cell_type": "code",
   "execution_count": 19,
   "metadata": {
    "collapsed": false
   },
   "outputs": [
    {
     "name": "stdout",
     "output_type": "stream",
     "text": [
      "[0 0 0 0 0 0 0 0 0 0 0 0 0 0 0 0 0 0 0 0 0 0 0 0 0 0 0 0 0 0 0 0 0 0 0 0 0\n",
      " 0 0 0 0 0 0 0 0 0 0 0 0 0 0 0 0 0 0 0 0 0 0 0 0 0 0 0 0 0 0 0 0 0 0 0 0 0\n",
      " 0 0 0 0 0 0 0 0 0 0 0 0 0 0 0 0 0 0 0 0 0 0 0 0 0 0 0 0 0 0 0 0 0 0 0 0 0\n",
      " 0 0 0 0 0 0 0 0 0 0 0 0 0 0 0 0 0 0 0 0 0 0 0 0 0 0 0 0 0 0 0 0 0 0 0 0 0\n",
      " 0 0 0 0 0 0 0 0 0 0 0 0 0 0 0 0 0 0 0 0 0 1 0 0 0 0 0 0 0 0 0 0 0 0 0 0 0\n",
      " 0 0 0 0 0 0 0 0 0 0 0 0 0 0 0]\n"
     ]
    }
   ],
   "source": [
    "# predict class labels for the test set\n",
    "vlt0Predicted = vlt0Model.predict(X_test)\n",
    "print (vlt0Predicted)"
   ]
  },
  {
   "cell_type": "code",
   "execution_count": 20,
   "metadata": {
    "collapsed": false
   },
   "outputs": [
    {
     "name": "stdout",
     "output_type": "stream",
     "text": [
      "[[ 0.67124755  0.32875245]\n",
      " [ 0.89174085  0.10825915]\n",
      " [ 0.81118588  0.18881412]\n",
      " [ 0.67124755  0.32875245]\n",
      " [ 0.90039627  0.09960373]\n",
      " [ 0.7109101   0.2890899 ]\n",
      " [ 0.65041078  0.34958922]\n",
      " [ 0.7109101   0.2890899 ]\n",
      " [ 0.81118588  0.18881412]\n",
      " [ 0.85026705  0.14973295]\n",
      " [ 0.81820422  0.18179578]\n",
      " [ 0.8824315   0.1175685 ]\n",
      " [ 0.81118588  0.18881412]\n",
      " [ 0.78104369  0.21895631]\n",
      " [ 0.69143158  0.30856842]\n",
      " [ 0.79653005  0.20346995]\n",
      " [ 0.8824315   0.1175685 ]\n",
      " [ 0.67124755  0.32875245]\n",
      " [ 0.89174085  0.10825915]\n",
      " [ 0.74758691  0.25241309]\n",
      " [ 0.81118588  0.18881412]\n",
      " [ 0.90039627  0.09960373]\n",
      " [ 0.82501796  0.17498204]\n",
      " [ 0.87243615  0.12756385]\n",
      " [ 0.85026705  0.14973295]\n",
      " [ 0.7109101   0.2890899 ]\n",
      " [ 0.60703598  0.39296402]\n",
      " [ 0.86717157  0.13282843]\n",
      " [ 0.81118588  0.18881412]\n",
      " [ 0.76472679  0.23527321]\n",
      " [ 0.85026705  0.14973295]\n",
      " [ 0.79653005  0.20346995]\n",
      " [ 0.90039627  0.09960373]\n",
      " [ 0.7109101   0.2890899 ]\n",
      " [ 0.76472679  0.23527321]\n",
      " [ 0.89174085  0.10825915]\n",
      " [ 0.60703598  0.39296402]\n",
      " [ 0.90039627  0.09960373]\n",
      " [ 0.72037089  0.27962911]\n",
      " [ 0.67124755  0.32875245]\n",
      " [ 0.87243615  0.12756385]\n",
      " [ 0.85026705  0.14973295]\n",
      " [ 0.8039615   0.1960385 ]\n",
      " [ 0.78889085  0.21110915]\n",
      " [ 0.89174085  0.10825915]\n",
      " [ 0.76472679  0.23527321]\n",
      " [ 0.95005211  0.04994789]\n",
      " [ 0.8824315   0.1175685 ]\n",
      " [ 0.90039627  0.09960373]\n",
      " [ 0.78104369  0.21895631]\n",
      " [ 0.82501796  0.17498204]\n",
      " [ 0.81118588  0.18881412]\n",
      " [ 0.76472679  0.23527321]\n",
      " [ 0.83803905  0.16196095]\n",
      " [ 0.85026705  0.14973295]\n",
      " [ 0.92914215  0.07085785]\n",
      " [ 0.82501796  0.17498204]\n",
      " [ 0.90039627  0.09960373]\n",
      " [ 0.91587766  0.08412234]\n",
      " [ 0.78104369  0.21895631]\n",
      " [ 0.87243615  0.12756385]\n",
      " [ 0.65041078  0.34958922]\n",
      " [ 0.74758691  0.25241309]\n",
      " [ 0.79653005  0.20346995]\n",
      " [ 0.69143158  0.30856842]\n",
      " [ 0.87243615  0.12756385]\n",
      " [ 0.56190443  0.43809557]\n",
      " [ 0.89174085  0.10825915]\n",
      " [ 0.72963981  0.27036019]\n",
      " [ 0.79653005  0.20346995]\n",
      " [ 0.89614826  0.10385174]\n",
      " [ 0.79653005  0.20346995]\n",
      " [ 0.69143158  0.30856842]\n",
      " [ 0.94045107  0.05954893]\n",
      " [ 0.74758691  0.25241309]\n",
      " [ 0.81118588  0.18881412]\n",
      " [ 0.8824315   0.1175685 ]\n",
      " [ 0.79653005  0.20346995]\n",
      " [ 0.85026705  0.14973295]\n",
      " [ 0.82501796  0.17498204]\n",
      " [ 0.62898331  0.37101669]\n",
      " [ 0.91587766  0.08412234]\n",
      " [ 0.7109101   0.2890899 ]\n",
      " [ 0.82501796  0.17498204]\n",
      " [ 0.74758691  0.25241309]\n",
      " [ 0.86172417  0.13827583]\n",
      " [ 0.91072499  0.08927501]\n",
      " [ 0.85026705  0.14973295]\n",
      " [ 0.72963981  0.27036019]\n",
      " [ 0.65041078  0.34958922]\n",
      " [ 0.60703598  0.39296402]\n",
      " [ 0.76472679  0.23527321]\n",
      " [ 0.76472679  0.23527321]\n",
      " [ 0.89174085  0.10825915]\n",
      " [ 0.89174085  0.10825915]\n",
      " [ 0.89174085  0.10825915]\n",
      " [ 0.85026705  0.14973295]\n",
      " [ 0.91587766  0.08412234]\n",
      " [ 0.78104369  0.21895631]\n",
      " [ 0.79653005  0.20346995]\n",
      " [ 0.86172417  0.13827583]\n",
      " [ 0.85026705  0.14973295]\n",
      " [ 0.81118588  0.18881412]\n",
      " [ 0.62898331  0.37101669]\n",
      " [ 0.86172417  0.13827583]\n",
      " [ 0.91587766  0.08412234]\n",
      " [ 0.7109101   0.2890899 ]\n",
      " [ 0.78104369  0.21895631]\n",
      " [ 0.90843074  0.09156926]\n",
      " [ 0.83803905  0.16196095]\n",
      " [ 0.90843074  0.09156926]\n",
      " [ 0.76472679  0.23527321]\n",
      " [ 0.92914215  0.07085785]\n",
      " [ 0.81118588  0.18881412]\n",
      " [ 0.56190443  0.43809557]\n",
      " [ 0.8824315   0.1175685 ]\n",
      " [ 0.87243615  0.12756385]\n",
      " [ 0.93502518  0.06497482]\n",
      " [ 0.92277045  0.07722955]\n",
      " [ 0.7109101   0.2890899 ]\n",
      " [ 0.76472679  0.23527321]\n",
      " [ 0.538898    0.461102  ]\n",
      " [ 0.8824315   0.1175685 ]\n",
      " [ 0.8039615   0.1960385 ]\n",
      " [ 0.78104369  0.21895631]\n",
      " [ 0.85026705  0.14973295]\n",
      " [ 0.51572466  0.48427534]\n",
      " [ 0.81118588  0.18881412]\n",
      " [ 0.90843074  0.09156926]\n",
      " [ 0.8824315   0.1175685 ]\n",
      " [ 0.76472679  0.23527321]\n",
      " [ 0.86172417  0.13827583]\n",
      " [ 0.86172417  0.13827583]\n",
      " [ 0.92601939  0.07398061]\n",
      " [ 0.85026705  0.14973295]\n",
      " [ 0.92914215  0.07085785]\n",
      " [ 0.83803905  0.16196095]\n",
      " [ 0.82501796  0.17498204]\n",
      " [ 0.90039627  0.09960373]\n",
      " [ 0.56190443  0.43809557]\n",
      " [ 0.69143158  0.30856842]\n",
      " [ 0.87243615  0.12756385]\n",
      " [ 0.89174085  0.10825915]\n",
      " [ 0.85026705  0.14973295]\n",
      " [ 0.79653005  0.20346995]\n",
      " [ 0.78104369  0.21895631]\n",
      " [ 0.8824315   0.1175685 ]\n",
      " [ 0.83803905  0.16196095]\n",
      " [ 0.90039627  0.09960373]\n",
      " [ 0.94045107  0.05954893]\n",
      " [ 0.67124755  0.32875245]\n",
      " [ 0.93502518  0.06497482]\n",
      " [ 0.86172417  0.13827583]\n",
      " [ 0.67124755  0.32875245]\n",
      " [ 0.78889085  0.21110915]\n",
      " [ 0.82501796  0.17498204]\n",
      " [ 0.62898331  0.37101669]\n",
      " [ 0.5846477   0.4153523 ]\n",
      " [ 0.5846477   0.4153523 ]\n",
      " [ 0.7109101   0.2890899 ]\n",
      " [ 0.8824315   0.1175685 ]\n",
      " [ 0.94545029  0.05454971]\n",
      " [ 0.89174085  0.10825915]\n",
      " [ 0.83803905  0.16196095]\n",
      " [ 0.90039627  0.09960373]\n",
      " [ 0.51572466  0.48427534]\n",
      " [ 0.87243615  0.12756385]\n",
      " [ 0.81118588  0.18881412]\n",
      " [ 0.85026705  0.14973295]\n",
      " [ 0.46927479  0.53072521]\n",
      " [ 0.8824315   0.1175685 ]\n",
      " [ 0.74758691  0.25241309]\n",
      " [ 0.82501796  0.17498204]\n",
      " [ 0.74758691  0.25241309]\n",
      " [ 0.62898331  0.37101669]\n",
      " [ 0.60703598  0.39296402]\n",
      " [ 0.81118588  0.18881412]\n",
      " [ 0.82501796  0.17498204]\n",
      " [ 0.74758691  0.25241309]\n",
      " [ 0.65041078  0.34958922]\n",
      " [ 0.7109101   0.2890899 ]\n",
      " [ 0.78104369  0.21895631]\n",
      " [ 0.87243615  0.12756385]\n",
      " [ 0.82501796  0.17498204]\n",
      " [ 0.83803905  0.16196095]\n",
      " [ 0.60703598  0.39296402]\n",
      " [ 0.5846477   0.4153523 ]\n",
      " [ 0.89174085  0.10825915]\n",
      " [ 0.81820422  0.18179578]\n",
      " [ 0.79653005  0.20346995]\n",
      " [ 0.81118588  0.18881412]\n",
      " [ 0.60703598  0.39296402]\n",
      " [ 0.78104369  0.21895631]\n",
      " [ 0.86172417  0.13827583]\n",
      " [ 0.90843074  0.09156926]\n",
      " [ 0.81118588  0.18881412]\n",
      " [ 0.94045107  0.05954893]\n",
      " [ 0.76472679  0.23527321]\n",
      " [ 0.91222555  0.08777445]\n",
      " [ 0.90843074  0.09156926]]\n"
     ]
    }
   ],
   "source": [
    "# generate class probabilities\n",
    "vlt0Probs = vlt0Model.predict_proba(X_test)\n",
    "print (vlt0Probs)"
   ]
  },
  {
   "cell_type": "code",
   "execution_count": 22,
   "metadata": {
    "collapsed": false
   },
   "outputs": [
    {
     "name": "stdout",
     "output_type": "stream",
     "text": [
      "0.775\n",
      "0.748397435897\n"
     ]
    }
   ],
   "source": [
    "# generate evaluation metrics\n",
    "print (metrics.accuracy_score(y_test, vlt0Predicted))\n",
    "print (metrics.roc_auc_score(y_test, vlt0Probs[:, 1]))"
   ]
  },
  {
   "cell_type": "code",
   "execution_count": 23,
   "metadata": {
    "collapsed": false
   },
   "outputs": [
    {
     "name": "stdout",
     "output_type": "stream",
     "text": [
      "[[155   1]\n",
      " [ 44   0]]\n",
      "             precision    recall  f1-score   support\n",
      "\n",
      "          0       0.78      0.99      0.87       156\n",
      "          1       0.00      0.00      0.00        44\n",
      "\n",
      "avg / total       0.61      0.78      0.68       200\n",
      "\n"
     ]
    }
   ],
   "source": [
    "# predicted accuracy for Resp using VL-t0 data is 77.5%\n",
    "# We can also see the confusion matrix and a classification report with other metrics.\n",
    "print (metrics.confusion_matrix(y_test, vlt0Predicted))\n",
    "print (metrics.classification_report(y_test, vlt0Predicted))"
   ]
  },
  {
   "cell_type": "code",
   "execution_count": 25,
   "metadata": {
    "collapsed": false
   },
   "outputs": [
    {
     "name": "stdout",
     "output_type": "stream",
     "text": [
      "[ 0.78217822  0.79207921  0.81188119  0.79207921  0.79        0.79\n",
      "  0.78787879  0.78787879  0.78787879  0.7979798 ]\n",
      "0.79198339834\n"
     ]
    }
   ],
   "source": [
    "#Now let's try 10-fold cross-validation, to see if the accuracy holds up more rigorously.\n",
    "#This results in a much better accuracy 79%\n",
    "vlt0Scores = cross_val_score(LogisticRegression(), X, y, scoring='accuracy', cv=10)\n",
    "print (vlt0Scores)\n",
    "print (vlt0Scores.mean())"
   ]
  },
  {
   "cell_type": "code",
   "execution_count": 26,
   "metadata": {
    "collapsed": false
   },
   "outputs": [
   ],
   "source": [
    "# Evaluate impact of 'CD4-t0' on Resp\n",
    "# split data into train and validation tests\n",
    "featureSet = ['CD4-t0']\n",
    "X = trainData[featureSet]\n",
    "y = trainData.Resp\n",
    "X_train, X_test, y_train, y_test = train_test_split(X, y, test_size=0.2, random_state=42)"
   ]
  },
  {
   "cell_type": "code",
   "execution_count": 27,
   "metadata": {
    "collapsed": false
   },
   "outputs": [
   ],
   "source": [
    "# instantiate a logistic regression model, and fit with X and y\n",
    "cd4t0Model = LogisticRegression()\n",
    "cd4t0Model = cd4t0Model.fit(X_train, y_train)"
   ]
  },
  {
   "cell_type": "code",
   "execution_count": 28,
   "metadata": {
    "collapsed": false
   },
   "outputs": [
    {
     "name": "stdout",
     "output_type": "stream",
     "text": [
      "[0 0 0 0 0 0 0 0 0 0 0 0 0 0 0 0 0 0 0 0 0 0 0 0 0 0 0 0 0 0 0 0 0 0 0 0 0\n",
      " 0 0 0 0 0 0 0 0 0 0 0 0 0 0 0 0 0 0 0 0 0 0 0 0 0 0 0 0 0 0 0 0 0 0 0 0 0\n",
      " 0 0 0 0 0 0 0 0 0 0 0 0 0 0 0 0 0 0 0 0 0 0 0 0 0 0 0 0 0 0 0 0 0 0 0 0 0\n",
      " 0 0 0 0 0 0 0 0 0 0 0 0 0 0 0 0 0 0 0 0 0 0 0 0 0 0 0 0 0 0 0 0 0 0 0 0 0\n",
      " 0 0 0 0 0 0 0 0 0 0 0 0 0 0 0 0 0 0 0 0 0 0 0 0 0 0 0 0 0 0 0 0 0 0 0 0 0\n",
      " 0 0 0 0 0 0 0 0 0 0 0 0 0 0 0]\n"
     ]
    }
   ],
   "source": [
    "# predict class labels for the test set\n",
    "cd4t0Predicted = cd4t0Model.predict(X_test)\n",
    "print (cd4t0Predicted)"
   ]
  },
  {
   "cell_type": "code",
   "execution_count": 29,
   "metadata": {
    "collapsed": false
   },
   "outputs": [
    {
     "name": "stdout",
     "output_type": "stream",
     "text": [
      "[[ 0.72486187  0.27513813]\n",
      " [ 0.89031503  0.10968497]\n",
      " [ 0.81485697  0.18514303]\n",
      " [ 0.80362493  0.19637507]\n",
      " [ 0.8591745   0.1408255 ]\n",
      " [ 0.80684417  0.19315583]\n",
      " [ 0.8103101   0.1896899 ]\n",
      " [ 0.83760323  0.16239677]\n",
      " [ 0.90535374  0.09464626]\n",
      " [ 0.76217622  0.23782378]\n",
      " [ 0.80713482  0.19286518]\n",
      " [ 0.89739476  0.10260524]\n",
      " [ 0.81931914  0.18068086]\n",
      " [ 0.85320115  0.14679885]\n",
      " [ 0.81737734  0.18262266]\n",
      " [ 0.81931914  0.18068086]\n",
      " [ 0.73443196  0.26556804]\n",
      " [ 0.74343107  0.25656893]\n",
      " [ 0.76419979  0.23580021]\n",
      " [ 0.74343107  0.25656893]\n",
      " [ 0.81513833  0.18486167]\n",
      " [ 0.77413822  0.22586178]\n",
      " [ 0.82558599  0.17441401]\n",
      " [ 0.83089499  0.16910501]\n",
      " [ 0.84750252  0.15249748]\n",
      " [ 0.79034364  0.20965636]\n",
      " [ 0.79188552  0.20811448]\n",
      " [ 0.78250861  0.21749139]\n",
      " [ 0.77446433  0.22553567]\n",
      " [ 0.79372472  0.20627528]\n",
      " [ 0.73624781  0.26375219]\n",
      " [ 0.75945959  0.24054041]\n",
      " [ 0.85084845  0.14915155]\n",
      " [ 0.81904273  0.18095727]\n",
      " [ 0.73297355  0.26702645]\n",
      " [ 0.75637814  0.24362186]\n",
      " [ 0.71773459  0.28226541]\n",
      " [ 0.79706526  0.20293474]\n",
      " [ 0.78566775  0.21433225]\n",
      " [ 0.71355746  0.28644254]\n",
      " [ 0.86516111  0.13483889]\n",
      " [ 0.73661002  0.26338998]\n",
      " [ 0.78377629  0.21622371]\n",
      " [ 0.77706124  0.22293876]\n",
      " [ 0.75877713  0.24122287]\n",
      " [ 0.76754587  0.23245413]\n",
      " [ 0.80713482  0.19286518]\n",
      " [ 0.86029965  0.13970035]\n",
      " [ 0.79857031  0.20142969]\n",
      " [ 0.75292306  0.24707694]\n",
      " [ 0.79976832  0.20023168]\n",
      " [ 0.76453589  0.23546411]\n",
      " [ 0.74908462  0.25091538]\n",
      " [ 0.90276415  0.09723585]\n",
      " [ 0.81457527  0.18542473]\n",
      " [ 0.80684417  0.19315583]\n",
      " [ 0.77867345  0.22132655]\n",
      " [ 0.85826893  0.14173107]\n",
      " [ 0.81316184  0.18683816]\n",
      " [ 0.7278292   0.2721708 ]\n",
      " [ 0.7536167   0.2463833 ]\n",
      " [ 0.79463979  0.20536021]\n",
      " [ 0.7943351   0.2056649 ]\n",
      " [ 0.7441423   0.2558577 ]\n",
      " [ 0.8123098   0.1876902 ]\n",
      " [ 0.76318949  0.23681051]\n",
      " [ 0.7441423   0.2558577 ]\n",
      " [ 0.83504887  0.16495113]\n",
      " [ 0.7278292   0.2721708 ]\n",
      " [ 0.77283041  0.22716959]\n",
      " [ 0.8408761   0.1591239 ]\n",
      " [ 0.8618622   0.1381378 ]\n",
      " [ 0.74236179  0.25763821]\n",
      " [ 0.79219289  0.20780711]\n",
      " [ 0.71202936  0.28797064]\n",
      " [ 0.82014641  0.17985359]\n",
      " [ 0.83607446  0.16392554]\n",
      " [ 0.78187276  0.21812724]\n",
      " [ 0.79341902  0.20658098]\n",
      " [ 0.74908462  0.25091538]\n",
      " [ 0.70934354  0.29065646]\n",
      " [ 0.78535334  0.21464666]\n",
      " [ 0.76587698  0.23412302]\n",
      " [ 0.75083426  0.24916574]\n",
      " [ 0.76953756  0.23046244]\n",
      " [ 0.88567559  0.11432441]\n",
      " [ 0.7522281   0.2477719 ]\n",
      " [ 0.7943351   0.2056649 ]\n",
      " [ 0.74803091  0.25196909]\n",
      " [ 0.70934354  0.29065646]\n",
      " [ 0.74803091  0.25196909]\n",
      " [ 0.7337034   0.2662966 ]\n",
      " [ 0.75327004  0.24672996]\n",
      " [ 0.80185197  0.19814803]\n",
      " [ 0.84112563  0.15887437]\n",
      " [ 0.83912048  0.16087952]\n",
      " [ 0.82097071  0.17902929]\n",
      " [ 0.75188013  0.24811987]\n",
      " [ 0.83036993  0.16963007]\n",
      " [ 0.7682111   0.2317889 ]\n",
      " [ 0.76587698  0.23412302]\n",
      " [ 0.94344239  0.05655761]\n",
      " [ 0.8277252   0.1722748 ]\n",
      " [ 0.73004151  0.26995849]\n",
      " [ 0.79311299  0.20688701]\n",
      " [ 0.88624122  0.11375878]\n",
      " [ 0.73297355  0.26702645]\n",
      " [ 0.78345987  0.21654013]\n",
      " [ 0.80655318  0.19344682]\n",
      " [ 0.7964609   0.2035391 ]\n",
      " [ 0.80771514  0.19228486]\n",
      " [ 0.75637814  0.24362186]\n",
      " [ 0.85826893  0.14173107]\n",
      " [ 0.8056782   0.1943218 ]\n",
      " [ 0.79403008  0.20596992]\n",
      " [ 0.93238613  0.06761387]\n",
      " [ 0.75430903  0.24569097]\n",
      " [ 0.82450856  0.17549144]\n",
      " [ 0.80597019  0.19402981]\n",
      " [ 0.75877713  0.24122287]\n",
      " [ 0.76654553  0.23345447]\n",
      " [ 0.73913654  0.26086346]\n",
      " [ 0.81259414  0.18740586]\n",
      " [ 0.79249992  0.20750008]\n",
      " [ 0.80303528  0.19696472]\n",
      " [ 0.74838247  0.25161753]\n",
      " [ 0.70818796  0.29181204]\n",
      " [ 0.72262324  0.27737676]\n",
      " [ 0.87155945  0.12844055]\n",
      " [ 0.74591472  0.25408528]\n",
      " [ 0.71049642  0.28950358]\n",
      " [ 0.85320115  0.14679885]\n",
      " [ 0.81145478  0.18854522]\n",
      " [ 0.82261045  0.17738955]\n",
      " [ 0.85320115  0.14679885]\n",
      " [ 0.80480023  0.19519977]\n",
      " [ 0.75637814  0.24362186]\n",
      " [ 0.88125728  0.11874272]\n",
      " [ 0.74873371  0.25126629]\n",
      " [ 0.7441423   0.2558577 ]\n",
      " [ 0.77511557  0.22488443]\n",
      " [ 0.84531923  0.15468077]\n",
      " [ 0.80944811  0.19055189]\n",
      " [ 0.84384956  0.15615044]\n",
      " [ 0.90276415  0.09723585]\n",
      " [ 0.7285679   0.2714321 ]\n",
      " [ 0.84918311  0.15081689]\n",
      " [ 0.77576546  0.22423454]\n",
      " [ 0.81848892  0.18151108]\n",
      " [ 0.8629693   0.1370307 ]\n",
      " [ 0.75430903  0.24569097]\n",
      " [ 0.90011152  0.09988848]\n",
      " [ 0.81287816  0.18712184]\n",
      " [ 0.70741608  0.29258392]\n",
      " [ 0.7850386   0.2149614 ]\n",
      " [ 0.7618378   0.2381622 ]\n",
      " [ 0.78472353  0.21527647]\n",
      " [ 0.75637814  0.24362186]\n",
      " [ 0.77413822  0.22586178]\n",
      " [ 0.79003426  0.20996574]\n",
      " [ 0.92497659  0.07502341]\n",
      " [ 0.90341741  0.09658259]\n",
      " [ 0.80973577  0.19026423]\n",
      " [ 0.89478856  0.10521144]\n",
      " [ 0.78027729  0.21972271]\n",
      " [ 0.71773459  0.28226541]\n",
      " [ 0.77899488  0.22100512]\n",
      " [ 0.7701988   0.2298012 ]\n",
      " [ 0.81737734  0.18262266]\n",
      " [ 0.72299713  0.27700287]\n",
      " [ 0.82799114  0.17200886]\n",
      " [ 0.93297198  0.06702802]\n",
      " [ 0.72930533  0.27069467]\n",
      " [ 0.78345987  0.21654013]\n",
      " [ 0.8215186   0.1784814 ]\n",
      " [ 0.70972814  0.29027186]\n",
      " [ 0.74626823  0.25373177]\n",
      " [ 0.76854321  0.23145679]\n",
      " [ 0.76721275  0.23278725]\n",
      " [ 0.71735638  0.28264362]\n",
      " [ 0.77899488  0.22100512]\n",
      " [ 0.76920645  0.23079355]\n",
      " [ 0.8401256   0.1598744 ]\n",
      " [ 0.87968618  0.12031382]\n",
      " [ 0.74732682  0.25267318]\n",
      " [ 0.71241184  0.28758816]\n",
      " [ 0.75843541  0.24156459]\n",
      " [ 0.88773765  0.11226235]\n",
      " [ 0.77995719  0.22004281]\n",
      " [ 0.80597019  0.19402981]\n",
      " [ 0.76386335  0.23613665]\n",
      " [ 0.73004151  0.26995849]\n",
      " [ 0.83168014  0.16831986]\n",
      " [ 0.78754715  0.21245285]\n",
      " [ 0.79311299  0.20688701]\n",
      " [ 0.78345987  0.21654013]\n",
      " [ 0.82931594  0.17068406]\n",
      " [ 0.75568975  0.24431025]\n",
      " [ 0.89687813  0.10312187]\n",
      " [ 0.73841628  0.26158372]]\n"
     ]
    }
   ],
   "source": [
    "# generate class probabilities\n",
    "cd4t0Probs = cd4t0Model.predict_proba(X_test)\n",
    "print (cd4t0Probs)"
   ]
  },
  {
   "cell_type": "code",
   "execution_count": 30,
   "metadata": {
    "collapsed": false
   },
   "outputs": [
    {
     "name": "stdout",
     "output_type": "stream",
     "text": [
      "0.78\n",
      "0.576413170163\n"
     ]
    }
   ],
   "source": [
    "# generate evaluation metrics\n",
    "print (metrics.accuracy_score(y_test, cd4t0Predicted))\n",
    "print (metrics.roc_auc_score(y_test, cd4t0Probs[:, 1]))"
   ]
  },
  {
   "cell_type": "code",
   "execution_count": 31,
   "metadata": {
    "collapsed": false
   },
   "outputs": [
    {
     "name": "stdout",
     "output_type": "stream",
     "text": [
      "[[156   0]\n",
      " [ 44   0]]\n",
      "             precision    recall  f1-score   support\n",
      "\n",
      "          0       0.78      1.00      0.88       156\n",
      "          1       0.00      0.00      0.00        44\n",
      "\n",
      "avg / total       0.61      0.78      0.68       200\n",
      "\n"
     ]
    },
    {
     "name": "stderr",
     "output_type": "stream",
     "text": [
      "/ext/anaconda3/lib/python3.5/site-packages/sklearn/metrics/classification.py:1135: UndefinedMetricWarning: Precision and F-score are ill-defined and being set to 0.0 in labels with no predicted samples.\n",
      "  'precision', 'predicted', average, warn_for)\n"
     ]
    }
   ],
   "source": [
    "# predicted accuracy for Resp using CD4-t0 data is 78%\n",
    "# We can also see the confusion matrix and a classification report with other metrics.\n",
    "print (metrics.confusion_matrix(y_test, cd4t0Predicted))\n",
    "print (metrics.classification_report(y_test, cd4t0Predicted))"
   ]
  },
  {
   "cell_type": "code",
   "execution_count": 32,
   "metadata": {
    "collapsed": false
   },
   "outputs": [
    {
     "name": "stdout",
     "output_type": "stream",
     "text": [
      "[ 0.79207921  0.79207921  0.79207921  0.79207921  0.79        0.79\n",
      "  0.7979798   0.7979798   0.7979798   0.7979798 ]\n",
      "0.79402360236\n"
     ]
    }
   ],
   "source": [
    "#Now let's try 10-fold cross-validation, to see if the accuracy holds up more rigorously.\n",
    "#Accuracy improved slightly to 79.4%\n",
    "cd4t0Scores = cross_val_score(LogisticRegression(), X, y, scoring='accuracy', cv=10)\n",
    "print (cd4t0Scores)\n",
    "print (cd4t0Scores.mean())"
   ]
  },
  {
   "cell_type": "code",
   "execution_count": 33,
   "metadata": {
    "collapsed": false
   },
   "outputs": [
   ],
   "source": [
    "#Now let's use both CD4-t0 and VL-t0 to predict Resp\n",
    "featureSet = ['VL-t0', 'CD4-t0']\n",
    "X = trainData[featureSet]\n",
    "y = trainData.Resp\n",
    "X_train, X_test, y_train, y_test = train_test_split(X, y, test_size=0.2, random_state=42)"
   ]
  },
  {
   "cell_type": "code",
   "execution_count": 34,
   "metadata": {
    "collapsed": false
   },
   "outputs": [
   ],
   "source": [
    "# instantiate a logistic regression model, and fit with X and y\n",
    "logRegModel = LogisticRegression()\n",
    "logRegModel = logRegModel.fit(X_train, y_train)"
   ]
  },
  {
   "cell_type": "code",
   "execution_count": 35,
   "metadata": {
    "collapsed": false
   },
   "outputs": [
    {
     "name": "stdout",
     "output_type": "stream",
     "text": [
      "[0 0 0 0 0 0 0 0 0 0 0 0 0 0 0 0 0 0 0 0 0 0 0 0 0 0 0 0 0 0 0 0 0 0 0 0 0\n",
      " 0 0 0 0 0 0 0 0 0 0 0 0 0 0 0 0 0 0 0 0 0 0 0 0 0 0 0 0 0 0 0 0 0 0 0 0 0\n",
      " 0 0 0 0 0 0 0 0 0 0 0 0 0 0 0 0 0 0 0 0 0 0 0 0 0 0 0 0 0 0 0 0 0 0 0 0 0\n",
      " 0 0 0 0 0 0 0 0 0 0 0 0 0 0 0 1 0 0 0 0 0 0 0 0 0 0 0 0 0 0 0 0 0 0 0 0 0\n",
      " 0 0 0 0 0 0 0 0 0 0 0 0 0 0 0 0 0 1 0 0 0 1 0 0 0 0 0 0 0 0 0 0 0 0 0 0 0\n",
      " 0 0 0 0 0 0 0 0 0 0 0 0 0 0 0]\n"
     ]
    }
   ],
   "source": [
    "# predict class labels for the test set\n",
    "logRegPredicted = logRegModel.predict(X_test)\n",
    "print (logRegPredicted)"
   ]
  },
  {
   "cell_type": "code",
   "execution_count": 36,
   "metadata": {
    "collapsed": false
   },
   "outputs": [
    {
     "name": "stdout",
     "output_type": "stream",
     "text": [
      "[[ 0.64960483  0.35039517]\n",
      " [ 0.91097513  0.08902487]\n",
      " [ 0.81748785  0.18251215]\n",
      " [ 0.6822311   0.3177689 ]\n",
      " [ 0.91046757  0.08953243]\n",
      " [ 0.72084664  0.27915336]\n",
      " [ 0.66584556  0.33415444]\n",
      " [ 0.73476352  0.26523648]\n",
      " [ 0.8529693   0.1470307 ]\n",
      " [ 0.84029005  0.15970995]\n",
      " [ 0.82157815  0.17842185]\n",
      " [ 0.90564478  0.09435522]\n",
      " [ 0.8189675   0.1810325 ]\n",
      " [ 0.80444076  0.19555924]\n",
      " [ 0.70739808  0.29260192]\n",
      " [ 0.80541321  0.19458679]\n",
      " [ 0.86737419  0.13262581]\n",
      " [ 0.65678817  0.34321183]\n",
      " [ 0.88284805  0.11715195]\n",
      " [ 0.73195742  0.26804258]\n",
      " [ 0.8175806   0.1824194 ]\n",
      " [ 0.89352133  0.10647867]\n",
      " [ 0.83376645  0.16623355]\n",
      " [ 0.87874064  0.12125936]\n",
      " [ 0.86339923  0.13660077]\n",
      " [ 0.71391336  0.28608664]\n",
      " [ 0.61612251  0.38387749]\n",
      " [ 0.86203246  0.13796754]\n",
      " [ 0.80482398  0.19517602]\n",
      " [ 0.76637935  0.23362065]\n",
      " [ 0.834018    0.165982  ]\n",
      " [ 0.78580986  0.21419014]\n",
      " [ 0.90862604  0.09137396]\n",
      " [ 0.7261949   0.2738051 ]\n",
      " [ 0.7456292   0.2543708 ]\n",
      " [ 0.88136081  0.11863919]\n",
      " [ 0.58390304  0.41609696]\n",
      " [ 0.89776331  0.10223669]\n",
      " [ 0.7210318   0.2789682 ]\n",
      " [ 0.64534717  0.35465283]\n",
      " [ 0.88790056  0.11209944]\n",
      " [ 0.83410405  0.16589595]\n",
      " [ 0.80064144  0.19935856]\n",
      " [ 0.78386947  0.21613053]\n",
      " [ 0.88181517  0.11818483]\n",
      " [ 0.75712697  0.24287303]\n",
      " [ 0.94808725  0.05191275]\n",
      " [ 0.89517105  0.10482895]\n",
      " [ 0.89804831  0.10195169]\n",
      " [ 0.76837284  0.23162716]\n",
      " [ 0.82577534  0.17422466]\n",
      " [ 0.80187716  0.19812284]\n",
      " [ 0.75089957  0.24910043]\n",
      " [ 0.87279658  0.12720342]\n",
      " [ 0.85389336  0.14610664]\n",
      " [ 0.92748597  0.07251403]\n",
      " [ 0.81960826  0.18039174]\n",
      " [ 0.91026462  0.08973538]\n",
      " [ 0.91564506  0.08435494]\n",
      " [ 0.76053613  0.23946387]\n",
      " [ 0.86088075  0.13911925]\n",
      " [ 0.65847368  0.34152632]\n",
      " [ 0.75032221  0.24967779]\n",
      " [ 0.78116906  0.21883094]\n",
      " [ 0.70507609  0.29492391]\n",
      " [ 0.86295279  0.13704721]\n",
      " [ 0.55127012  0.44872988]\n",
      " [ 0.8973654   0.1026346 ]\n",
      " [ 0.70867324  0.29132676]\n",
      " [ 0.78996627  0.21003373]\n",
      " [ 0.90265108  0.09734892]\n",
      " [ 0.821538    0.178462  ]\n",
      " [ 0.6761291   0.3238709 ]\n",
      " [ 0.93679088  0.06320912]\n",
      " [ 0.72146189  0.27853811]\n",
      " [ 0.8192439   0.1807561 ]\n",
      " [ 0.88912994  0.11087006]\n",
      " [ 0.79284035  0.20715965]\n",
      " [ 0.84821911  0.15178089]\n",
      " [ 0.81137639  0.18862361]\n",
      " [ 0.60205333  0.39794667]\n",
      " [ 0.91106994  0.08893006]\n",
      " [ 0.70416507  0.29583493]\n",
      " [ 0.81185174  0.18814826]\n",
      " [ 0.74112658  0.25887342]\n",
      " [ 0.88527731  0.11472269]\n",
      " [ 0.9004619   0.0995381 ]\n",
      " [ 0.8484591   0.1515409 ]\n",
      " [ 0.71580944  0.28419056]\n",
      " [ 0.623145    0.376855  ]\n",
      " [ 0.59638497  0.40361503]\n",
      " [ 0.74586499  0.25413501]\n",
      " [ 0.75229261  0.24770739]\n",
      " [ 0.89028678  0.10971322]\n",
      " [ 0.89873168  0.10126832]\n",
      " [ 0.89827806  0.10172194]\n",
      " [ 0.85566854  0.14433146]\n",
      " [ 0.90584868  0.09415132]\n",
      " [ 0.79528466  0.20471534]\n",
      " [ 0.7885183   0.2114817 ]\n",
      " [ 0.85272281  0.14727719]\n",
      " [ 0.90114806  0.09885194]\n",
      " [ 0.82180771  0.17819229]\n",
      " [ 0.61021743  0.38978257]\n",
      " [ 0.85923733  0.14076267]\n",
      " [ 0.92947107  0.07052893]\n",
      " [ 0.69184591  0.30815409]\n",
      " [ 0.77839721  0.22160279]\n",
      " [ 0.90732515  0.09267485]\n",
      " [ 0.83726645  0.16273355]\n",
      " [ 0.90753407  0.09246593]\n",
      " [ 0.75333395  0.24666605]\n",
      " [ 0.93538024  0.06461976]\n",
      " [ 0.81450039  0.18549961]\n",
      " [ 0.57436758  0.42563242]\n",
      " [ 0.91783561  0.08216439]\n",
      " [ 0.86102962  0.13897038]\n",
      " [ 0.93564134  0.06435866]\n",
      " [ 0.92114026  0.07885974]\n",
      " [ 0.70143774  0.29856226]\n",
      " [ 0.75678379  0.24321621]\n",
      " [ 0.52702567  0.47297433]\n",
      " [ 0.88368402  0.11631598]\n",
      " [ 0.80340579  0.19659421]\n",
      " [ 0.78518542  0.21481458]\n",
      " [ 0.83692392  0.16307608]\n",
      " [ 0.491928    0.508072  ]\n",
      " [ 0.78996218  0.21003782]\n",
      " [ 0.92009877  0.07990123]\n",
      " [ 0.8696464   0.1303536 ]\n",
      " [ 0.73848869  0.26151131]\n",
      " [ 0.87518778  0.12481222]\n",
      " [ 0.86383573  0.13616427]\n",
      " [ 0.92683594  0.07316406]\n",
      " [ 0.86514972  0.13485028]\n",
      " [ 0.92719269  0.07280731]\n",
      " [ 0.82648629  0.17351371]\n",
      " [ 0.85351124  0.14648876]\n",
      " [ 0.88900242  0.11099758]\n",
      " [ 0.55127012  0.44872988]\n",
      " [ 0.68906045  0.31093955]\n",
      " [ 0.88246675  0.11753325]\n",
      " [ 0.89185592  0.10814408]\n",
      " [ 0.86229548  0.13770452]\n",
      " [ 0.84013634  0.15986366]\n",
      " [ 0.76076254  0.23923746]\n",
      " [ 0.89233712  0.10766288]\n",
      " [ 0.83159732  0.16840268]\n",
      " [ 0.90190989  0.09809011]\n",
      " [ 0.94600068  0.05399932]\n",
      " [ 0.66111995  0.33888005]\n",
      " [ 0.94753731  0.05246269]\n",
      " [ 0.864201    0.135799  ]\n",
      " [ 0.64306692  0.35693308]\n",
      " [ 0.7864914   0.2135086 ]\n",
      " [ 0.81487215  0.18512785]\n",
      " [ 0.63360459  0.36639541]\n",
      " [ 0.57846056  0.42153944]\n",
      " [ 0.5864749   0.4135251 ]\n",
      " [ 0.71378635  0.28621365]\n",
      " [ 0.91497794  0.08502206]\n",
      " [ 0.95622712  0.04377288]\n",
      " [ 0.89191588  0.10808412]\n",
      " [ 0.86951656  0.13048344]\n",
      " [ 0.8946401   0.1053599 ]\n",
      " [ 0.49581356  0.50418644]\n",
      " [ 0.86644442  0.13355558]\n",
      " [ 0.80355112  0.19644888]\n",
      " [ 0.85466739  0.14533261]\n",
      " [ 0.45367758  0.54632242]\n",
      " [ 0.88721552  0.11278448]\n",
      " [ 0.82164     0.17836   ]\n",
      " [ 0.80608672  0.19391328]\n",
      " [ 0.74622308  0.25377692]\n",
      " [ 0.65145369  0.34854631]\n",
      " [ 0.58072715  0.41927285]\n",
      " [ 0.79658952  0.20341048]\n",
      " [ 0.81674081  0.18325919]\n",
      " [ 0.74029064  0.25970936]\n",
      " [ 0.62620639  0.37379361]\n",
      " [ 0.70931976  0.29068024]\n",
      " [ 0.77364207  0.22635793]\n",
      " [ 0.88110566  0.11889434]\n",
      " [ 0.85288821  0.14711179]\n",
      " [ 0.82415566  0.17584434]\n",
      " [ 0.58178654  0.41821346]\n",
      " [ 0.57937     0.42063   ]\n",
      " [ 0.91026663  0.08973337]\n",
      " [ 0.81332133  0.18667867]\n",
      " [ 0.80079224  0.19920776]\n",
      " [ 0.80167952  0.19832048]\n",
      " [ 0.58887958  0.41112042]\n",
      " [ 0.79579035  0.20420965]\n",
      " [ 0.85787821  0.14212179]\n",
      " [ 0.90494542  0.09505458]\n",
      " [ 0.80754428  0.19245572]\n",
      " [ 0.94141159  0.05858841]\n",
      " [ 0.7531028   0.2468972 ]\n",
      " [ 0.92896067  0.07103933]\n",
      " [ 0.89580424  0.10419576]]\n"
     ]
    }
   ],
   "source": [
    "# generate class probabilities\n",
    "logRegProbs = logRegModel.predict_proba(X_test)\n",
    "print (logRegProbs)"
   ]
  },
  {
   "cell_type": "code",
   "execution_count": 37,
   "metadata": {
    "collapsed": false
   },
   "outputs": [
    {
     "name": "stdout",
     "output_type": "stream",
     "text": [
      "0.765\n",
      "0.735795454545\n"
     ]
    }
   ],
   "source": [
    "# generate evaluation metrics\n",
    "print (metrics.accuracy_score(y_test, logRegPredicted))\n",
    "print (metrics.roc_auc_score(y_test, logRegProbs[:, 1]))"
   ]
  },
  {
   "cell_type": "code",
   "execution_count": 38,
   "metadata": {
    "collapsed": false
   },
   "outputs": [
    {
     "name": "stdout",
     "output_type": "stream",
     "text": [
      "[[153   3]\n",
      " [ 44   0]]\n",
      "             precision    recall  f1-score   support\n",
      "\n",
      "          0       0.78      0.98      0.87       156\n",
      "          1       0.00      0.00      0.00        44\n",
      "\n",
      "avg / total       0.61      0.77      0.68       200\n",
      "\n"
     ]
    }
   ],
   "source": [
    "# predicted accuracy for Resp using both CD4-t0 and VL-t0 data is 76.5%\n",
    "# We can also see the confusion matrix and a classification report with other metrics.\n",
    "print (metrics.confusion_matrix(y_test, logRegPredicted))\n",
    "print (metrics.classification_report(y_test, logRegPredicted))"
   ]
  },
  {
   "cell_type": "code",
   "execution_count": 39,
   "metadata": {
    "collapsed": false
   },
   "outputs": [
    {
     "name": "stdout",
     "output_type": "stream",
     "text": [
      "[ 0.78217822  0.78217822  0.8019802   0.78217822  0.79        0.79\n",
      "  0.78787879  0.78787879  0.78787879  0.7979798 ]\n",
      "0.78901310131\n"
     ]
    }
   ],
   "source": [
    "#Now let's try 10-fold cross-validation, to see if the accuracy holds up more rigorously.\n",
    "#Accuracy improved to 78.9%\n",
    "logRegScores = cross_val_score(LogisticRegression(), X, y, scoring='accuracy', cv=10)\n",
    "print (logRegScores)\n",
    "print (logRegScores.mean())"
   ]
  },
  {
   "cell_type": "code",
   "execution_count": 40,
   "metadata": {
    "collapsed": false
   },
   "outputs": [
   ],
   "source": [
    "#Let's use the provided validation data to check accuracy\n",
    "featureSet = ['VL-t0', 'CD4-t0']\n",
    "X_eval = testData[featureSet]\n",
    "y_eval = testData.Resp"
   ]
  },
  {
   "cell_type": "code",
   "execution_count": 41,
   "metadata": {
    "collapsed": false
   },
   "outputs": [
    {
     "name": "stdout",
     "output_type": "stream",
     "text": [
      "[0 0 0 0 0 0 0 0 0 0 0 0 0 0 0 0 0 0 0 0 0 0 0 0 0 0 0 0 0 0 0 0 0 0 0 0 0\n",
      " 0 0 0 0 0 0 0 0 0 0 0 0 0 1 0 0 1 0 0 1 0 0 0 1 0 0 0 0 0 0 0 0 0 1 0 0 0\n",
      " 0 0 0 0 0 0 1 0 0 0 0 0 0 0 0 0 0 0 0 0 0 0 0 0 0 0 0 0 0 0 0 0 0 0 0 0 1\n",
      " 0 0 0 0 0 0 0 0 0 0 0 0 0 0 0 0 0 0 0 0 0 0 0 0 0 0 0 0 0 0 0 0 0 0 0 0 0\n",
      " 0 0 0 0 0 0 0 0 0 0 0 0 0 0 0 0 0 0 0 0 0 0 0 0 0 0 0 0 0 0 0 0 0 0 0 0 0\n",
      " 0 0 0 0 0 0 0 0 0 0 0 0 0 0 0 0 0 0 0 0 0 0 0 0 0 0 0 0 0 0 0 0 0 0 0 0 0\n",
      " 0 0 0 0 0 0 0 0 0 0 0 1 0 0 0 0 0 0 0 0 0 0 0 0 0 0 0 0 0 0 0 0 0 0 0 0 0\n",
      " 0 0 0 0 0 0 0 0 0 0 0 0 0 0 0 0 0 0 0 0 0 0 0 0 0 0 0 0 0 0 0 0 0 0 0 0 0\n",
      " 0 0 0 0 0 0 0 0 0 1 0 0 0 0 0 1 0 0 0 0 0 0 0 0 0 0 0 0 0 0 0 0 0 0 0 0 0\n",
      " 0 0 0 0 0 0 0 0 0 0 0 0 0 0 0 0 0 0 0 0 0 0 0 0 0 0 0 0 1 0 0 0 0 0 0 0 0\n",
      " 0 0 0 0 0 0 1 0 0 0 0 0 0 0 0 0 0 0 0 0 0 0 0 0 0 0 0 0 0 0 0 0 0 0 0 0 0\n",
      " 0 0 0 0 0 0 0 0 0 0 0 0 0 0 0 0 0 0 0 0 0 0 0 0 0 0 0 0 0 0 0 0 0 0 0 0 0\n",
      " 0 0 0 0 0 0 0 0 0 0 0 0 0 0 0 0 0 0 0 0 0 0 0 0 0 0 0 0 0 1 0 0 1 0 0 0 0\n",
      " 0 0 0 0 0 0 0 0 0 0 0 0 0 0 0 0 0 0 0 0 0 0 0 0 0 0 0 0 0 0 0 0 0 0 0 0 0\n",
      " 1 0 0 0 0 0 0 0 0 0 0 0 0 0 0 0 0 0 0 0 0 0 0 0 0 0 0 0 0 0 0 0 0 0 0 0 0\n",
      " 0 0 0 0 0 0 0 0 0 0 0 0 1 0 0 0 0 0 1 0 0 0 0 0 0 0 1 0 0 0 0 0 0 0 0 0 0\n",
      " 0 0 0 0 0 0 0 0 0 0 0 0 0 0 0 0 0 0 0 0 0 1 0 0 0 0 0 0 0 0 0 0 0 0 0 0 0\n",
      " 0 0 0 0 0 0 0 0 0 0 0 0 0 0 0 0 0 0 0 0 0 0 0 0 0 0 1 0 0 0 0 0 0 0 0 0 0\n",
      " 0 0 0 0 0 0 0 0 0 0 0 0 0 0 0 0 0 0 0 0 0 0 0 0 0 0]\n"
     ]
    }
   ],
   "source": [
    "# predict class labels for the eval set\n",
    "logRegPredicted = logRegModel.predict(X_eval)\n",
    "print (logRegPredicted)"
   ]
  },
  {
   "cell_type": "code",
   "execution_count": 42,
   "metadata": {
    "collapsed": false
   },
   "outputs": [
    {
     "name": "stdout",
     "output_type": "stream",
     "text": [
      "[[ 0.5458809   0.4541191 ]\n",
      " [ 0.61817346  0.38182654]\n",
      " [ 0.51942537  0.48057463]\n",
      " ..., \n",
      " [ 0.73476352  0.26523648]\n",
      " [ 0.78339715  0.21660285]\n",
      " [ 0.64585357  0.35414643]]\n"
     ]
    }
   ],
   "source": [
    "# generate class probabilities\n",
    "logRegProbs = logRegModel.predict_proba(X_eval)\n",
    "print (logRegProbs)"
   ]
  },
  {
   "cell_type": "code",
   "execution_count": 66,
   "metadata": {
    "collapsed": false,
    "scrolled": true
   },
   "outputs": [
    {
     "name": "stdout",
     "output_type": "stream",
     "text": [
      "0.971098265896\n"
     ]
    },
    {
     "name": "stderr",
     "output_type": "stream",
     "text": [
      "/ext/anaconda3/lib/python3.5/site-packages/ipykernel/__main__.py:7: FutureWarning: set_value is deprecated and will be removed in a future release. Please use .at[] or .iat[] accessors instead\n"
     ]
    }
   ],
   "source": [
    "# generate evaluation metrics\n",
    "# Eval data transormation\n",
    "for index, row in testData.iterrows():\n",
    "    if row['Resp'] == 'H':\n",
    "        testData.set_value(index, 'Resp', 1)\n",
    "    else:\n",
    "        testData.set_value(index, 'Resp', 0)\n",
    "\n",
    "testData['Resp'] = pd.to_numeric(testData['Resp'])\n",
    "y_eval = testData.Resp\n",
    "print (metrics.accuracy_score(y_eval, logRegPredicted))"
   ]
  },
  {
   "cell_type": "code",
   "execution_count": 67,
   "metadata": {
    "collapsed": false
   },
   "outputs": [
    {
     "name": "stdout",
     "output_type": "stream",
     "text": [
      "[[672  20]\n",
      " [  0   0]]\n"
     ]
    }
   ],
   "source": [
    "# predicted accuracy on eval data for Resp using both CD4-t0 and VL-t0 data is 97%\n",
    "# We can also see the confusion matrix and a classification report with other metrics.\n",
    "print (metrics.confusion_matrix(y_eval, logRegPredicted))"
   ]
  },
  {
   "cell_type": "code",
   "execution_count": 0,
   "metadata": {
    "collapsed": false
   },
   "outputs": [
   ],
   "source": [
   ]
  },
  {
   "cell_type": "code",
   "execution_count": 0,
   "metadata": {
    "collapsed": false
   },
   "outputs": [
   ],
   "source": [
   ]
  }
 ],
 "metadata": {
  "kernelspec": {
   "display_name": "Python 3 (Anaconda)",
   "language": "python",
   "name": "anaconda3"
  },
  "language_info": {
   "codemirror_mode": {
    "name": "ipython",
    "version": 3
   },
   "file_extension": ".py",
   "mimetype": "text/x-python",
   "name": "python",
   "nbconvert_exporter": "python",
   "pygments_lexer": "ipython3",
   "version": "3.5.4"
  }
 },
 "nbformat": 4,
 "nbformat_minor": 0
}